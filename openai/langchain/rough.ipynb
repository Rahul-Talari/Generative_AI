{
 "cells": [
  {
   "cell_type": "code",
   "execution_count": 4,
   "metadata": {},
   "outputs": [],
   "source": [
    "from langchain_openai import OpenAI  # Update import statement\n",
    "from constants import openai_key"
   ]
  },
  {
   "cell_type": "code",
   "execution_count": 8,
   "metadata": {},
   "outputs": [
    {
     "data": {
      "text/plain": [
       "\" about himYes, I am familiar with Ratan Tata. Here are 5 bullet points about him:\\n\\n1. Ratan Tata is an Indian businessman and philanthropist who served as the chairman of Tata Sons, the holding company of the Tata Group, from 1991 to 2012.\\n\\n2. He was born on December 28, 1937, in Mumbai, India, into a prominent family of industrialists and philanthropists. His great-grandfather, Jamsetji Tata, founded the Tata Group in 1868.\\n\\n3. During his tenure as chairman, Ratan Tata expanded the Tata Group's global presence, acquiring major companies such as Jaguar Land Rover, Corus Group, and Tetley Tea.\\n\\n4. Ratan Tata is known for his philanthropic efforts, including the establishment of the Tata Trusts, which work towards improving the lives of underprivileged communities in India. He has also personally invested in startups and social enterprises that focus on social impact.\\n\\n5. In 2012, Ratan Tata retired as chairman of Tata Sons but continues to serve as chairman emeritus. He has received numerous awards and honors for his contributions to business and society, including the Padma Bhushan and Padma Vibhushan, two of\""
      ]
     },
     "execution_count": 8,
     "metadata": {},
     "output_type": "execute_result"
    }
   ],
   "source": [
    "llm=OpenAI(openai_api_key=openai_key,temperature=0.7)\n",
    "llm.predict(\"Do you know Ratan Tata ?Can you give 5 bullet points\")"
   ]
  },
  {
   "cell_type": "code",
   "execution_count": 9,
   "metadata": {},
   "outputs": [],
   "source": [
    "from langchain import HuggingFaceHub"
   ]
  },
  {
   "cell_type": "code",
   "execution_count": null,
   "metadata": {},
   "outputs": [],
   "source": []
  }
 ],
 "metadata": {
  "kernelspec": {
   "display_name": "Python 3",
   "language": "python",
   "name": "python3"
  },
  "language_info": {
   "codemirror_mode": {
    "name": "ipython",
    "version": 3
   },
   "file_extension": ".py",
   "mimetype": "text/x-python",
   "name": "python",
   "nbconvert_exporter": "python",
   "pygments_lexer": "ipython3",
   "version": "3.9.18"
  }
 },
 "nbformat": 4,
 "nbformat_minor": 2
}
